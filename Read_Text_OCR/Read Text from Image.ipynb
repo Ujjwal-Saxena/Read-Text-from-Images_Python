{
 "cells": [
  {
   "cell_type": "code",
   "execution_count": 2,
   "metadata": {},
   "outputs": [],
   "source": [
    "import pytesseract\n",
    "pytesseract.pytesseract.tesseract_cmd=r'C:/Program Files/Tesseract-OCR/tesseract.exe'"
   ]
  },
  {
   "cell_type": "code",
   "execution_count": 3,
   "metadata": {},
   "outputs": [],
   "source": [
    "import cv2"
   ]
  },
  {
   "cell_type": "code",
   "execution_count": 8,
   "metadata": {},
   "outputs": [],
   "source": [
    "img=cv2.imread('C:/Users/Lenovo/Downloads/cap2.png')\n",
    "cv2.imshow('sample image',img)\n",
    "cv2.waitKey(0)\n",
    "cv2.destroyAllWindows()"
   ]
  },
  {
   "cell_type": "code",
   "execution_count": 9,
   "metadata": {
    "collapsed": true
   },
   "outputs": [
    {
     "name": "stdout",
     "output_type": "stream",
     "text": [
      "Store #05666\n",
      "\n",
      "3515 DEL MAR HTS,RD\n",
      "SAN DIEGO, CA 92130\n",
      "(858) 792-7040\n",
      "\n",
      "Register #4 Transaction #571140\n",
      "Cashier #56661020 8/20/17 5:45PM\n",
      "\n",
      "wellnesst+ with Plenti\n",
      "Plenti Card#: 31XXXXXXXXXX4553\n",
      "1 G2 RETRACT BOLD BLK 2PK 1.99 T\n",
      "SALE 1/1.99, Reg 1/4.69\n",
      "Discount 2.70-\n",
      "\n",
      "1 Items Subtotal 1.99\n",
      "Tax .15\n",
      "\n",
      "Total 2.14\n",
      "*xMASTER* 2.14\n",
      "\n",
      "MASTER card * #XXXXXXXXXXXX548S\n",
      "Apo #AA APPROVAL AUTO\n",
      "\n",
      "Ref # 05639E\n",
      "\n",
      "Entry Method: Chip\n",
      "\f",
      "\n"
     ]
    }
   ],
   "source": [
    "text=pytesseract.image_to_string(img)\n",
    "print(text)"
   ]
  },
  {
   "cell_type": "code",
   "execution_count": 14,
   "metadata": {},
   "outputs": [],
   "source": [
    "img1=cv2.imread('C:/Users/Lenovo/Downloads/cap3.jpg')\n",
    "cv2.imshow('sample image',img1)\n",
    "cv2.waitKey(0)\n",
    "cv2.destroyAllWindows()"
   ]
  },
  {
   "cell_type": "code",
   "execution_count": 15,
   "metadata": {
    "scrolled": true
   },
   "outputs": [
    {
     "name": "stdout",
     "output_type": "stream",
     "text": [
      " \n",
      "\n",
      " \n",
      "\n",
      "Typ/Type/Type Kode/Code/Code Pass-Nr./Passport No./PassportNo.\n",
      "\n",
      "P D 6408125F 1710219\n",
      "\n",
      "1. Name/Surname/Nom\n",
      "\n",
      "Doe\n",
      "\n",
      "2. Vornamen/Given names/Prénom\n",
      "\n",
      "Jane\n",
      "\n",
      "3. StaatsangehGrigkeit/Nationality/Nationalité PES\n",
      "Z =\n",
      "\n",
      "German\n",
      "\n",
      "5. Geschlecht/Sex/Sexe 6. Geburtsort/Place of birth/Lieu de naissance\n",
      "\n",
      "F Cologne\n",
      "7. Ausstellungsdatum/Date of issue/Date d'émission\n",
      "01.11.1995\n",
      "\n",
      "9, Behérde/Authority/Autorité\n",
      "\n",
      "Makrofol'\n",
      "\f",
      "\n"
     ]
    }
   ],
   "source": [
    "text=pytesseract.image_to_string(img1)\n",
    "print(text)"
   ]
  },
  {
   "cell_type": "code",
   "execution_count": 16,
   "metadata": {},
   "outputs": [],
   "source": [
    "img2=cv2.imread('C:/Users/Lenovo/Downloads/cap4.jpg')\n",
    "cv2.imshow('sample image',img2)\n",
    "cv2.waitKey(0)\n",
    "cv2.destroyAllWindows()"
   ]
  },
  {
   "cell_type": "code",
   "execution_count": 18,
   "metadata": {},
   "outputs": [
    {
     "name": "stdout",
     "output_type": "stream",
     "text": [
      "UNTI STATES AMIE\n",
      "* PASSPORT CARD «\n",
      "\n",
      "eee Passport c\n",
      "030947386\n",
      "\n",
      "EXEMPLAR ©\n",
      "\n",
      "   \n",
      "  \n",
      "   \n",
      "\n",
      "   \n",
      "\n",
      "Expires On\n",
      "\n",
      "ov 2009 29 NOV 2\n",
      "\f",
      "\n"
     ]
    }
   ],
   "source": [
    "text=pytesseract.image_to_string(img2)\n",
    "print(text)"
   ]
  },
  {
   "cell_type": "code",
   "execution_count": null,
   "metadata": {},
   "outputs": [],
   "source": []
  }
 ],
 "metadata": {
  "kernelspec": {
   "display_name": "Python 3",
   "language": "python",
   "name": "python3"
  },
  "language_info": {
   "codemirror_mode": {
    "name": "ipython",
    "version": 3
   },
   "file_extension": ".py",
   "mimetype": "text/x-python",
   "name": "python",
   "nbconvert_exporter": "python",
   "pygments_lexer": "ipython3",
   "version": "3.8.1"
  }
 },
 "nbformat": 4,
 "nbformat_minor": 4
}
